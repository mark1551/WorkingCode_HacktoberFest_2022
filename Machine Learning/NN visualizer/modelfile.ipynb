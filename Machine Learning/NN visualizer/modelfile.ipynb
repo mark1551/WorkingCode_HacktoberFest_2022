{
 "cells": [
  {
   "cell_type": "markdown",
   "metadata": {},
   "source": [
    "# Import Libraries"
   ]
  },
  {
   "cell_type": "code",
   "execution_count": null,
   "metadata": {},
   "outputs": [],
   "source": []
  },
  {
   "cell_type": "code",
   "execution_count": 1,
   "metadata": {},
   "outputs": [],
   "source": [
    "%matplotlib inline\n",
    "\n",
    "\n",
    "import tensorflow as tf\n",
    "import numpy as np\n",
    "import matplotlib.pyplot as plt"
   ]
  },
  {
   "cell_type": "markdown",
   "metadata": {},
   "source": [
    "# Download Data"
   ]
  },
  {
   "cell_type": "code",
   "execution_count": 2,
   "metadata": {},
   "outputs": [],
   "source": [
    "(x_train,y_train),(x_test ,y_test)=tf.keras.datasets.mnist.load_data()"
   ]
  },
  {
   "cell_type": "markdown",
   "metadata": {},
   "source": [
    "# Plot Examples"
   ]
  },
  {
   "cell_type": "code",
   "execution_count": 3,
   "metadata": {},
   "outputs": [
    {
     "data": {
      "image/png": "[encoded data removed]",
      "text/plain": [
       "<Figure size 720x720 with 16 Axes>"
      ]
     },
     "metadata": {},
     "output_type": "display_data"
    }
   ],
   "source": [
    "plt.figure(figsize=(10,10))\n",
    "\n",
    "for i in range(0,16):\n",
    "    plt.subplot(4,4,i+1)\n",
    "    plt.imshow(x_train[i],cmap='binary')\n",
    "    plt.xlabel(str(y_train[i]))\n",
    "    plt.xticks([])\n",
    "    plt.yticks([])\n",
    "plt.show()"
   ]
  },
  {
   "cell_type": "markdown",
   "metadata": {
    "slideshow": {
     "slide_type": "fragment"
    }
   },
   "source": [
    "# Normalize Data"
   ]
  },
  {
   "cell_type": "code",
   "execution_count": 4,
   "metadata": {},
   "outputs": [],
   "source": [
    "x_train=np.reshape(x_train,(60000,28*28))\n",
    "x_test=np.reshape (x_test,(10000,28*28))\n",
    "x_train=x_train/255.\n",
    "x_test=x_test/255."
   ]
  },
  {
   "cell_type": "markdown",
   "metadata": {},
   "source": [
    "# Create a Neural Network Model"
   ]
  },
  {
   "cell_type": "code",
   "execution_count": 5,
   "metadata": {},
   "outputs": [],
   "source": [
    "model=tf.keras.models.Sequential([\n",
    "    tf.keras.layers.Dense(32,activation='sigmoid',input_shape=(784,)),\n",
    "    tf.keras.layers.Dense(32,activation='sigmoid'),\n",
    "    tf.keras.layers.Dense(32,activation='softmax')\n",
    "])\n",
    "model.compile(loss='sparse_categorical_crossentropy',optimizer='adam',metrics=['accuracy'])"
   ]
  },
  {
   "cell_type": "markdown",
   "metadata": {},
   "source": [
    "# Train the Model"
   ]
  },
  {
   "cell_type": "code",
   "execution_count": 7,
   "metadata": {
    "scrolled": true
   },
   "outputs": [
    {
     "name": "stdout",
     "output_type": "stream",
     "text": [
      "Epoch 1/100\n",
      "30/30 [==============================] - 1s 23ms/step - loss: 0.0981 - accuracy: 0.9742 - val_loss: 0.1382 - val_accuracy: 0.9579\n",
      "Epoch 2/100\n",
      "30/30 [==============================] - 1s 19ms/step - loss: 0.0970 - accuracy: 0.9745 - val_loss: 0.1372 - val_accuracy: 0.9583\n",
      "Epoch 3/100\n",
      "30/30 [==============================] - 1s 22ms/step - loss: 0.0959 - accuracy: 0.9749 - val_loss: 0.1368 - val_accuracy: 0.9588\n",
      "Epoch 4/100\n",
      "30/30 [==============================] - 1s 21ms/step - loss: 0.0949 - accuracy: 0.9750 - val_loss: 0.1361 - val_accuracy: 0.9590\n",
      "Epoch 5/100\n",
      "30/30 [==============================] - 1s 19ms/step - loss: 0.0938 - accuracy: 0.9754 - val_loss: 0.1355 - val_accuracy: 0.9591\n",
      "Epoch 6/100\n",
      "30/30 [==============================] - 1s 19ms/step - loss: 0.0929 - accuracy: 0.9757 - val_loss: 0.1345 - val_accuracy: 0.9587\n",
      "Epoch 7/100\n",
      "30/30 [==============================] - 1s 19ms/step - loss: 0.0918 - accuracy: 0.9759 - val_loss: 0.1343 - val_accuracy: 0.9593\n",
      "Epoch 8/100\n",
      "30/30 [==============================] - 1s 19ms/step - loss: 0.0909 - accuracy: 0.9764 - val_loss: 0.1339 - val_accuracy: 0.9596\n",
      "Epoch 9/100\n",
      "30/30 [==============================] - 1s 19ms/step - loss: 0.0898 - accuracy: 0.9762 - val_loss: 0.1337 - val_accuracy: 0.9593\n",
      "Epoch 10/100\n",
      "30/30 [==============================] - 1s 21ms/step - loss: 0.0889 - accuracy: 0.9769 - val_loss: 0.1331 - val_accuracy: 0.9601\n",
      "Epoch 11/100\n",
      "30/30 [==============================] - 1s 22ms/step - loss: 0.0883 - accuracy: 0.9772 - val_loss: 0.1325 - val_accuracy: 0.9596\n",
      "Epoch 12/100\n",
      "30/30 [==============================] - 1s 20ms/step - loss: 0.0871 - accuracy: 0.9775 - val_loss: 0.1319 - val_accuracy: 0.9596\n",
      "Epoch 13/100\n",
      "30/30 [==============================] - 1s 18ms/step - loss: 0.0862 - accuracy: 0.9777 - val_loss: 0.1315 - val_accuracy: 0.9599\n",
      "Epoch 14/100\n",
      "30/30 [==============================] - 1s 22ms/step - loss: 0.0854 - accuracy: 0.9779 - val_loss: 0.1310 - val_accuracy: 0.9603\n",
      "Epoch 15/100\n",
      "30/30 [==============================] - 1s 19ms/step - loss: 0.0844 - accuracy: 0.9782 - val_loss: 0.1303 - val_accuracy: 0.9603\n",
      "Epoch 16/100\n",
      "30/30 [==============================] - 1s 23ms/step - loss: 0.0836 - accuracy: 0.9783 - val_loss: 0.1304 - val_accuracy: 0.9600\n",
      "Epoch 17/100\n",
      "30/30 [==============================] - 1s 23ms/step - loss: 0.0828 - accuracy: 0.9785 - val_loss: 0.1294 - val_accuracy: 0.9609\n",
      "Epoch 18/100\n",
      "30/30 [==============================] - 1s 23ms/step - loss: 0.0818 - accuracy: 0.9790 - val_loss: 0.1292 - val_accuracy: 0.9611\n",
      "Epoch 19/100\n",
      "30/30 [==============================] - 1s 24ms/step - loss: 0.0811 - accuracy: 0.9789 - val_loss: 0.1290 - val_accuracy: 0.9611\n",
      "Epoch 20/100\n",
      "30/30 [==============================] - 1s 23ms/step - loss: 0.0802 - accuracy: 0.9788 - val_loss: 0.1284 - val_accuracy: 0.9609\n",
      "Epoch 21/100\n",
      "30/30 [==============================] - 1s 23ms/step - loss: 0.0794 - accuracy: 0.9796 - val_loss: 0.1281 - val_accuracy: 0.9611\n",
      "Epoch 22/100\n",
      "30/30 [==============================] - 1s 19ms/step - loss: 0.0787 - accuracy: 0.9796 - val_loss: 0.1278 - val_accuracy: 0.9612\n",
      "Epoch 23/100\n",
      "30/30 [==============================] - 1s 19ms/step - loss: 0.0778 - accuracy: 0.9798 - val_loss: 0.1272 - val_accuracy: 0.9613\n",
      "Epoch 24/100\n",
      "30/30 [==============================] - 1s 22ms/step - loss: 0.0770 - accuracy: 0.9799 - val_loss: 0.1268 - val_accuracy: 0.9617\n",
      "Epoch 25/100\n",
      "30/30 [==============================] - 1s 26ms/step - loss: 0.0762 - accuracy: 0.9804 - val_loss: 0.1270 - val_accuracy: 0.9611\n",
      "Epoch 26/100\n",
      "30/30 [==============================] - 1s 25ms/step - loss: 0.0757 - accuracy: 0.9804 - val_loss: 0.1268 - val_accuracy: 0.9611\n",
      "Epoch 27/100\n",
      "30/30 [==============================] - 1s 23ms/step - loss: 0.0748 - accuracy: 0.9807 - val_loss: 0.1260 - val_accuracy: 0.9620\n",
      "Epoch 28/100\n",
      "30/30 [==============================] - 1s 18ms/step - loss: 0.0740 - accuracy: 0.9806 - val_loss: 0.1257 - val_accuracy: 0.9619\n",
      "Epoch 29/100\n",
      "30/30 [==============================] - 1s 18ms/step - loss: 0.0733 - accuracy: 0.9808 - val_loss: 0.1260 - val_accuracy: 0.9612\n",
      "Epoch 30/100\n",
      "30/30 [==============================] - 1s 19ms/step - loss: 0.0726 - accuracy: 0.9812 - val_loss: 0.1253 - val_accuracy: 0.9617\n",
      "Epoch 31/100\n",
      "30/30 [==============================] - 1s 17ms/step - loss: 0.0719 - accuracy: 0.9812 - val_loss: 0.1252 - val_accuracy: 0.9620\n",
      "Epoch 32/100\n",
      "30/30 [==============================] - 1s 19ms/step - loss: 0.0711 - accuracy: 0.9818 - val_loss: 0.1246 - val_accuracy: 0.9622\n",
      "Epoch 33/100\n",
      "30/30 [==============================] - 1s 21ms/step - loss: 0.0703 - accuracy: 0.9819 - val_loss: 0.1250 - val_accuracy: 0.9620\n",
      "Epoch 34/100\n",
      "30/30 [==============================] - 1s 22ms/step - loss: 0.0697 - accuracy: 0.9825 - val_loss: 0.1244 - val_accuracy: 0.9624\n",
      "Epoch 35/100\n",
      "30/30 [==============================] - 1s 20ms/step - loss: 0.0690 - accuracy: 0.9826 - val_loss: 0.1244 - val_accuracy: 0.9632\n",
      "Epoch 36/100\n",
      "30/30 [==============================] - 1s 20ms/step - loss: 0.0684 - accuracy: 0.9825 - val_loss: 0.1241 - val_accuracy: 0.9621\n",
      "Epoch 37/100\n",
      "30/30 [==============================] - 1s 22ms/step - loss: 0.0676 - accuracy: 0.9826 - val_loss: 0.1235 - val_accuracy: 0.9627\n",
      "Epoch 38/100\n",
      "30/30 [==============================] - 1s 19ms/step - loss: 0.0671 - accuracy: 0.9827 - val_loss: 0.1240 - val_accuracy: 0.9628\n",
      "Epoch 39/100\n",
      "30/30 [==============================] - 1s 25ms/step - loss: 0.0663 - accuracy: 0.9832 - val_loss: 0.1231 - val_accuracy: 0.9632\n",
      "Epoch 40/100\n",
      "30/30 [==============================] - 1s 21ms/step - loss: 0.0657 - accuracy: 0.9833 - val_loss: 0.1230 - val_accuracy: 0.9630\n",
      "Epoch 41/100\n",
      "30/30 [==============================] - 1s 22ms/step - loss: 0.0650 - accuracy: 0.9838 - val_loss: 0.1229 - val_accuracy: 0.9625\n",
      "Epoch 42/100\n",
      "30/30 [==============================] - 1s 20ms/step - loss: 0.0644 - accuracy: 0.9836 - val_loss: 0.1226 - val_accuracy: 0.9628\n",
      "Epoch 43/100\n",
      "30/30 [==============================] - 1s 19ms/step - loss: 0.0639 - accuracy: 0.9838 - val_loss: 0.1224 - val_accuracy: 0.9630\n",
      "Epoch 44/100\n",
      "30/30 [==============================] - 1s 21ms/step - loss: 0.0632 - accuracy: 0.9840 - val_loss: 0.1224 - val_accuracy: 0.9630\n",
      "Epoch 45/100\n",
      "30/30 [==============================] - 1s 23ms/step - loss: 0.0626 - accuracy: 0.9840 - val_loss: 0.1224 - val_accuracy: 0.9627\n",
      "Epoch 46/100\n",
      "30/30 [==============================] - 1s 19ms/step - loss: 0.0620 - accuracy: 0.9842 - val_loss: 0.1226 - val_accuracy: 0.9627\n",
      "Epoch 47/100\n",
      "30/30 [==============================] - 1s 21ms/step - loss: 0.0614 - accuracy: 0.9844 - val_loss: 0.1218 - val_accuracy: 0.9628\n",
      "Epoch 48/100\n",
      "30/30 [==============================] - 1s 20ms/step - loss: 0.0608 - accuracy: 0.9847 - val_loss: 0.1221 - val_accuracy: 0.9632\n",
      "Epoch 49/100\n",
      "30/30 [==============================] - 1s 19ms/step - loss: 0.0604 - accuracy: 0.9847 - val_loss: 0.1224 - val_accuracy: 0.9634\n",
      "Epoch 50/100\n",
      "30/30 [==============================] - 1s 18ms/step - loss: 0.0597 - accuracy: 0.9847 - val_loss: 0.1225 - val_accuracy: 0.9638\n",
      "Epoch 51/100\n",
      "30/30 [==============================] - 1s 18ms/step - loss: 0.0590 - accuracy: 0.9851 - val_loss: 0.1218 - val_accuracy: 0.9632\n",
      "Epoch 52/100\n",
      "30/30 [==============================] - 1s 17ms/step - loss: 0.0587 - accuracy: 0.9852 - val_loss: 0.1217 - val_accuracy: 0.9629\n",
      "Epoch 53/100\n",
      "30/30 [==============================] - 1s 17ms/step - loss: 0.0579 - accuracy: 0.9857 - val_loss: 0.1212 - val_accuracy: 0.9636\n",
      "Epoch 54/100\n",
      "30/30 [==============================] - 1s 17ms/step - loss: 0.0575 - accuracy: 0.9856 - val_loss: 0.1211 - val_accuracy: 0.9634\n",
      "Epoch 55/100\n",
      "30/30 [==============================] - 1s 18ms/step - loss: 0.0570 - accuracy: 0.9857 - val_loss: 0.1217 - val_accuracy: 0.9629\n",
      "Epoch 56/100\n",
      "30/30 [==============================] - 1s 17ms/step - loss: 0.0565 - accuracy: 0.9858 - val_loss: 0.1212 - val_accuracy: 0.9632\n",
      "Epoch 57/100\n",
      "30/30 [==============================] - 1s 17ms/step - loss: 0.0558 - accuracy: 0.9861 - val_loss: 0.1213 - val_accuracy: 0.9634\n",
      "Epoch 58/100\n",
      "30/30 [==============================] - 1s 19ms/step - loss: 0.0553 - accuracy: 0.9861 - val_loss: 0.1213 - val_accuracy: 0.9630\n",
      "Epoch 59/100\n",
      "30/30 [==============================] - 1s 17ms/step - loss: 0.0547 - accuracy: 0.9864 - val_loss: 0.1213 - val_accuracy: 0.9634\n",
      "Epoch 60/100\n",
      "30/30 [==============================] - 1s 20ms/step - loss: 0.0542 - accuracy: 0.9868 - val_loss: 0.1212 - val_accuracy: 0.9631\n",
      "Epoch 61/100\n",
      "30/30 [==============================] - 1s 19ms/step - loss: 0.0536 - accuracy: 0.9868 - val_loss: 0.1208 - val_accuracy: 0.9637\n",
      "Epoch 62/100\n",
      "30/30 [==============================] - 1s 18ms/step - loss: 0.0533 - accuracy: 0.9867 - val_loss: 0.1216 - val_accuracy: 0.9634\n",
      "Epoch 63/100\n",
      "30/30 [==============================] - 1s 21ms/step - loss: 0.0527 - accuracy: 0.9873 - val_loss: 0.1218 - val_accuracy: 0.9628\n",
      "Epoch 64/100\n",
      "30/30 [==============================] - 1s 23ms/step - loss: 0.0522 - accuracy: 0.9872 - val_loss: 0.1215 - val_accuracy: 0.9644\n",
      "Epoch 65/100\n",
      "30/30 [==============================] - 1s 24ms/step - loss: 0.0517 - accuracy: 0.9875 - val_loss: 0.1219 - val_accuracy: 0.9639\n",
      "Epoch 66/100\n",
      "30/30 [==============================] - 1s 23ms/step - loss: 0.0513 - accuracy: 0.9874 - val_loss: 0.1208 - val_accuracy: 0.9639\n",
      "Epoch 67/100\n",
      "30/30 [==============================] - 1s 19ms/step - loss: 0.0508 - accuracy: 0.9877 - val_loss: 0.1209 - val_accuracy: 0.9629\n",
      "Epoch 68/100\n",
      "30/30 [==============================] - 1s 18ms/step - loss: 0.0502 - accuracy: 0.9876 - val_loss: 0.1220 - val_accuracy: 0.9631\n",
      "Epoch 69/100\n",
      "30/30 [==============================] - 1s 17ms/step - loss: 0.0501 - accuracy: 0.9877 - val_loss: 0.1211 - val_accuracy: 0.9643\n",
      "Epoch 70/100\n",
      "30/30 [==============================] - 1s 19ms/step - loss: 0.0496 - accuracy: 0.9878 - val_loss: 0.1212 - val_accuracy: 0.9637\n",
      "Epoch 71/100\n",
      "30/30 [==============================] - 1s 30ms/step - loss: 0.0489 - accuracy: 0.9880 - val_loss: 0.1215 - val_accuracy: 0.9631\n",
      "Epoch 72/100\n",
      "30/30 [==============================] - 1s 19ms/step - loss: 0.0484 - accuracy: 0.9881 - val_loss: 0.1214 - val_accuracy: 0.9637\n",
      "Epoch 73/100\n",
      "30/30 [==============================] - 1s 18ms/step - loss: 0.0479 - accuracy: 0.9886 - val_loss: 0.1208 - val_accuracy: 0.9649\n",
      "Epoch 74/100\n",
      "30/30 [==============================] - 1s 18ms/step - loss: 0.0475 - accuracy: 0.9886 - val_loss: 0.1224 - val_accuracy: 0.9642\n",
      "Epoch 75/100\n",
      "30/30 [==============================] - 1s 18ms/step - loss: 0.0472 - accuracy: 0.9884 - val_loss: 0.1214 - val_accuracy: 0.9636\n",
      "Epoch 76/100\n",
      "30/30 [==============================] - 1s 18ms/step - loss: 0.0467 - accuracy: 0.9887 - val_loss: 0.1213 - val_accuracy: 0.9638\n",
      "Epoch 77/100\n",
      "30/30 [==============================] - 1s 21ms/step - loss: 0.0463 - accuracy: 0.9888 - val_loss: 0.1220 - val_accuracy: 0.9648\n",
      "Epoch 78/100\n",
      "30/30 [==============================] - 1s 23ms/step - loss: 0.0460 - accuracy: 0.9890 - val_loss: 0.1216 - val_accuracy: 0.9641\n",
      "Epoch 79/100\n",
      "30/30 [==============================] - 1s 21ms/step - loss: 0.0454 - accuracy: 0.9890 - val_loss: 0.1221 - val_accuracy: 0.9638\n",
      "Epoch 80/100\n",
      "30/30 [==============================] - 1s 20ms/step - loss: 0.0451 - accuracy: 0.9893 - val_loss: 0.1224 - val_accuracy: 0.9643\n",
      "Epoch 81/100\n",
      "30/30 [==============================] - 1s 23ms/step - loss: 0.0445 - accuracy: 0.9894 - val_loss: 0.1220 - val_accuracy: 0.9634\n",
      "Epoch 82/100\n",
      "30/30 [==============================] - 1s 24ms/step - loss: 0.0442 - accuracy: 0.9897 - val_loss: 0.1219 - val_accuracy: 0.9641\n",
      "Epoch 83/100\n",
      "30/30 [==============================] - 1s 27ms/step - loss: 0.0438 - accuracy: 0.9897 - val_loss: 0.1230 - val_accuracy: 0.9641\n",
      "Epoch 84/100\n",
      "30/30 [==============================] - 1s 32ms/step - loss: 0.0434 - accuracy: 0.9898 - val_loss: 0.1236 - val_accuracy: 0.9638\n",
      "Epoch 85/100\n",
      "30/30 [==============================] - 1s 36ms/step - loss: 0.0429 - accuracy: 0.9898 - val_loss: 0.1226 - val_accuracy: 0.9639\n",
      "Epoch 86/100\n",
      "30/30 [==============================] - 1s 25ms/step - loss: 0.0424 - accuracy: 0.9901 - val_loss: 0.1230 - val_accuracy: 0.9644\n",
      "Epoch 87/100\n",
      "30/30 [==============================] - 1s 21ms/step - loss: 0.0423 - accuracy: 0.9901 - val_loss: 0.1232 - val_accuracy: 0.9645\n",
      "Epoch 88/100\n",
      "30/30 [==============================] - 1s 25ms/step - loss: 0.0417 - accuracy: 0.9904 - val_loss: 0.1222 - val_accuracy: 0.9646\n",
      "Epoch 89/100\n",
      "30/30 [==============================] - 1s 22ms/step - loss: 0.0413 - accuracy: 0.9906 - val_loss: 0.1236 - val_accuracy: 0.9639\n",
      "Epoch 90/100\n",
      "30/30 [==============================] - 1s 25ms/step - loss: 0.0411 - accuracy: 0.9904 - val_loss: 0.1236 - val_accuracy: 0.9643\n",
      "Epoch 91/100\n",
      "30/30 [==============================] - 1s 32ms/step - loss: 0.0407 - accuracy: 0.9907 - val_loss: 0.1229 - val_accuracy: 0.9646\n",
      "Epoch 92/100\n",
      "30/30 [==============================] - 1s 31ms/step - loss: 0.0402 - accuracy: 0.9908 - val_loss: 0.1231 - val_accuracy: 0.9643\n",
      "Epoch 93/100\n",
      "30/30 [==============================] - 1s 22ms/step - loss: 0.0397 - accuracy: 0.9909 - val_loss: 0.1237 - val_accuracy: 0.9648\n",
      "Epoch 94/100\n",
      "30/30 [==============================] - 1s 24ms/step - loss: 0.0396 - accuracy: 0.9911 - val_loss: 0.1240 - val_accuracy: 0.9641\n",
      "Epoch 95/100\n",
      "30/30 [==============================] - 1s 21ms/step - loss: 0.0393 - accuracy: 0.9911 - val_loss: 0.1237 - val_accuracy: 0.9651\n",
      "Epoch 96/100\n",
      "30/30 [==============================] - 1s 22ms/step - loss: 0.0387 - accuracy: 0.9913 - val_loss: 0.1235 - val_accuracy: 0.9647\n",
      "Epoch 97/100\n",
      "30/30 [==============================] - 1s 23ms/step - loss: 0.0384 - accuracy: 0.9915 - val_loss: 0.1241 - val_accuracy: 0.9643\n",
      "Epoch 98/100\n",
      "30/30 [==============================] - 1s 22ms/step - loss: 0.0380 - accuracy: 0.9916 - val_loss: 0.1256 - val_accuracy: 0.9643\n",
      "Epoch 99/100\n",
      "30/30 [==============================] - 1s 24ms/step - loss: 0.0378 - accuracy: 0.9916 - val_loss: 0.1244 - val_accuracy: 0.9641\n",
      "Epoch 100/100\n",
      "30/30 [==============================] - 1s 23ms/step - loss: 0.0374 - accuracy: 0.9916 - val_loss: 0.1245 - val_accuracy: 0.9645\n"
     ]
    }
   ],
   "source": [
    "_=model.fit(x_train,y_train,\n",
    "          validation_data=(x_test,y_test),\n",
    "          epochs=100,batch_size=2048,\n",
    "          verbose=1)"
   ]
  },
  {
   "cell_type": "markdown",
   "metadata": {},
   "source": [
    "# Save the Model"
   ]
  },
  {
   "cell_type": "code",
   "execution_count": 8,
   "metadata": {},
   "outputs": [],
   "source": [
    "model.save('model.h5')"
   ]
  },
  {
   "cell_type": "markdown",
   "metadata": {},
   "source": [
    "# ML Server"
   ]
  },
  {
   "cell_type": "code",
   "execution_count": 9,
   "metadata": {},
   "outputs": [
    {
     "name": "stdout",
     "output_type": "stream",
     "text": [
      "Overwriting ml_server.py\n"
     ]
    }
   ],
   "source": [
    "\n",
    "%%writefile ml_server.py\n",
    "\n",
    "import json\n",
    "import tensorflow as tf\n",
    "import numpy as np\n",
    "import random\n",
    "\n",
    "from flask import Flask ,request\n",
    "\n",
    "app=Flask(__name__)\n",
    "\n",
    "model =tf.keras.models.load_model('model.h5')\n",
    "feature_model = tf.keras.models.Model(\n",
    "model.inputs,[\n",
    "    layer.output for layer in model.layers]\n",
    ")\n",
    "_,(x_test,_)=tf.keras.datasets.mnist.load_data()\n",
    "x_test = x_test/255.\n",
    "\n",
    "def get_prediction():\n",
    "    index=np.random.choice(x_test.shape[0])\n",
    "    image=x_test[index,:,:]\n",
    "    image_arr=np.reshape(image,(1,784))\n",
    "    return feature_model.predict(image_arr),image\n",
    "\n",
    "@app.route('/',methods=['GET','POST'])         \n",
    "def index():\n",
    "    if request.method =='POST':\n",
    "        preds,image=get_prediction()\n",
    "        final_preds=[p.tolist() for p in preds]\n",
    "        return json.dumps({\n",
    "            'prediction':final_preds,\n",
    "            'image':image.tolist()\n",
    "        })\n",
    "    return 'Welcome to the model'\n",
    "\n",
    "if __name__=='__main__':\n",
    "    app.run()"
   ]
  },
  {
   "cell_type": "markdown",
   "metadata": {},
   "source": [
    "# Streamlit Web App"
   ]
  },
  {
   "cell_type": "code",
   "execution_count": 10,
   "metadata": {},
   "outputs": [
    {
     "name": "stdout",
     "output_type": "stream",
     "text": [
      "Overwriting app.py\n"
     ]
    }
   ],
   "source": [
    "%%writefile app.py\n",
    "\n",
    "import streamlit as st\n",
    "import json\n",
    "import requests\n",
    "import matplotlib.pyplot as plt\n",
    "import numpy as np\n",
    "\n",
    "URI='http://127.0.0.1:5000'\n",
    "\n",
    "st.title('Neural Network Visualizer')\n",
    "st.sidebar.markdown('## INPUT IMAGE')\n",
    "\n",
    "if st.button('GEt random prediction'):\n",
    "    response =requests.post(URI,data={})\n",
    "    response =json.loads(response.text)\n",
    "    preds = response.get('prediction')\n",
    "    image = response.get('image')\n",
    "    image = np.reshape(image,(28,28))\n",
    "    \n",
    "    st.image(image,width=150)\n",
    "    for layer, p in enumerate(preds):\n",
    "        numbers =np.squeeze(np.array(p))\n",
    "        \n",
    "        plt.figure(figsize=(32,4))\n",
    "        if layer == 2:\n",
    "            row=1\n",
    "            col=10\n",
    "        else:\n",
    "            row=2\n",
    "            col=16\n",
    "        \n",
    "        for i,number in enumerate(numbers):\n",
    "            plt.subplot(row,col,i+1)\n",
    "            plt.imshow(number*np.ones((8,8,3)).astype('float32'))\n",
    "            plt.xticks([])\n",
    "            plt.yticks([])\n",
    "            \n",
    "            \n",
    "            if layer ==2:\n",
    "                plt.xlabel(str(i),fontsize=40)\n",
    "                \n",
    "        plt.subplots_adjust(wspace=0.05,hspace=0.05)\n",
    "        plt.tight_layout()\n",
    "        st.text('Layer {}'.format(layer+1))\n",
    "        st.pyplot()\n",
    "        \n",
    "            \n",
    "            \n",
    "            "
   ]
  },
  {
   "cell_type": "markdown",
   "metadata": {},
   "source": []
  },
  {
   "cell_type": "code",
   "execution_count": null,
   "metadata": {},
   "outputs": [],
   "source": []
  }
 ],
 "metadata": {
  "kernelspec": {
   "display_name": "Python 3",
   "language": "python",
   "name": "python3"
  },
  "language_info": {
   "codemirror_mode": {
    "name": "ipython",
    "version": 3
   },
   "file_extension": ".py",
   "mimetype": "text/x-python",
   "name": "python",
   "nbconvert_exporter": "python",
   "pygments_lexer": "ipython3",
   "version": "3.8.5"
  }
 },
 "nbformat": 4,
 "nbformat_minor": 4
}
